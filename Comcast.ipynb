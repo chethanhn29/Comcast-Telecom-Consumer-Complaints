{
 "cells": [
  {
   "cell_type": "markdown",
   "id": "billion-ranking",
   "metadata": {
    "papermill": {
     "duration": 0.022616,
     "end_time": "2021-08-05T08:04:48.816358",
     "exception": false,
     "start_time": "2021-08-05T08:04:48.793742",
     "status": "completed"
    },
    "tags": []
   },
   "source": [
    "<b><H1>Project Name : Comcast Telecom Consumer Complaints</H1></b><br>\n",
    "Name: Daniel Manova<br>\n",
    "Date: 01-04-2021<br>\n",
    "Course: Post Graduate Program in AI and Machine Learning<br>\n",
    "Cohort : PGP AIML FEB 2021 Cohort 1<br>"
   ]
  },
  {
   "cell_type": "code",
   "execution_count": 1,
   "id": "central-boating",
   "metadata": {
    "execution": {
     "iopub.execute_input": "2021-08-05T08:04:48.863697Z",
     "iopub.status.busy": "2021-08-05T08:04:48.862524Z",
     "iopub.status.idle": "2021-08-05T08:04:48.875716Z",
     "shell.execute_reply": "2021-08-05T08:04:48.876300Z",
     "shell.execute_reply.started": "2021-07-02T11:35:06.835892Z"
    },
    "papermill": {
     "duration": 0.038496,
     "end_time": "2021-08-05T08:04:48.876601",
     "exception": false,
     "start_time": "2021-08-05T08:04:48.838105",
     "status": "completed"
    },
    "tags": []
   },
   "outputs": [],
   "source": [
    "# Importing all necessary packages\n",
    "import pandas as pd\n",
    "import numpy as np\n",
    "import matplotlib.pyplot as plt\n",
    "from tabulate import tabulate"
   ]
  },
  {
   "cell_type": "markdown",
   "id": "burning-colony",
   "metadata": {
    "papermill": {
     "duration": 0.024971,
     "end_time": "2021-08-05T08:04:48.929138",
     "exception": false,
     "start_time": "2021-08-05T08:04:48.904167",
     "status": "completed"
    },
    "tags": []
   },
   "source": [
    "<b>Import data into Python environment</b>"
   ]
  },
  {
   "cell_type": "code",
   "execution_count": 2,
   "id": "powerful-spell",
   "metadata": {
    "execution": {
     "iopub.execute_input": "2021-08-05T08:04:48.988815Z",
     "iopub.status.busy": "2021-08-05T08:04:48.987846Z",
     "iopub.status.idle": "2021-08-05T08:04:49.027084Z",
     "shell.execute_reply": "2021-08-05T08:04:49.026532Z",
     "shell.execute_reply.started": "2021-07-02T11:35:06.843653Z"
    },
    "papermill": {
     "duration": 0.067086,
     "end_time": "2021-08-05T08:04:49.027231",
     "exception": false,
     "start_time": "2021-08-05T08:04:48.960145",
     "status": "completed"
    },
    "tags": []
   },
   "outputs": [],
   "source": [
    "# Read comcast telecome complaints data\n",
    "df_comcast_telecom = pd.read_csv('../input/telecom-complaints-monitoring-system/Comcast_telecom_complaints_data.csv')\n"
   ]
  },
  {
   "cell_type": "code",
   "execution_count": 3,
   "id": "fluid-relay",
   "metadata": {
    "execution": {
     "iopub.execute_input": "2021-08-05T08:04:49.081112Z",
     "iopub.status.busy": "2021-08-05T08:04:49.080264Z",
     "iopub.status.idle": "2021-08-05T08:04:49.105449Z",
     "shell.execute_reply": "2021-08-05T08:04:49.105939Z",
     "shell.execute_reply.started": "2021-07-02T11:35:06.878559Z"
    },
    "papermill": {
     "duration": 0.056996,
     "end_time": "2021-08-05T08:04:49.106101",
     "exception": false,
     "start_time": "2021-08-05T08:04:49.049105",
     "status": "completed"
    },
    "tags": []
   },
   "outputs": [
    {
     "data": {
      "text/html": [
       "<div>\n",
       "<style scoped>\n",
       "    .dataframe tbody tr th:only-of-type {\n",
       "        vertical-align: middle;\n",
       "    }\n",
       "\n",
       "    .dataframe tbody tr th {\n",
       "        vertical-align: top;\n",
       "    }\n",
       "\n",
       "    .dataframe thead th {\n",
       "        text-align: right;\n",
       "    }\n",
       "</style>\n",
       "<table border=\"1\" class=\"dataframe\">\n",
       "  <thead>\n",
       "    <tr style=\"text-align: right;\">\n",
       "      <th></th>\n",
       "      <th>Ticket #</th>\n",
       "      <th>Customer Complaint</th>\n",
       "      <th>Date</th>\n",
       "      <th>Date_month_year</th>\n",
       "      <th>Time</th>\n",
       "      <th>Received Via</th>\n",
       "      <th>City</th>\n",
       "      <th>State</th>\n",
       "      <th>Zip code</th>\n",
       "      <th>Status</th>\n",
       "      <th>Filing on Behalf of Someone</th>\n",
       "    </tr>\n",
       "  </thead>\n",
       "  <tbody>\n",
       "    <tr>\n",
       "      <th>0</th>\n",
       "      <td>250635</td>\n",
       "      <td>Comcast Cable Internet Speeds</td>\n",
       "      <td>22-04-15</td>\n",
       "      <td>22-Apr-15</td>\n",
       "      <td>3:53:50 PM</td>\n",
       "      <td>Customer Care Call</td>\n",
       "      <td>Abingdon</td>\n",
       "      <td>Maryland</td>\n",
       "      <td>21009</td>\n",
       "      <td>Closed</td>\n",
       "      <td>No</td>\n",
       "    </tr>\n",
       "    <tr>\n",
       "      <th>1</th>\n",
       "      <td>223441</td>\n",
       "      <td>Payment disappear - service got disconnected</td>\n",
       "      <td>04-08-15</td>\n",
       "      <td>04-Aug-15</td>\n",
       "      <td>10:22:56 AM</td>\n",
       "      <td>Internet</td>\n",
       "      <td>Acworth</td>\n",
       "      <td>Georgia</td>\n",
       "      <td>30102</td>\n",
       "      <td>Closed</td>\n",
       "      <td>No</td>\n",
       "    </tr>\n",
       "    <tr>\n",
       "      <th>2</th>\n",
       "      <td>242732</td>\n",
       "      <td>Speed and Service</td>\n",
       "      <td>18-04-15</td>\n",
       "      <td>18-Apr-15</td>\n",
       "      <td>9:55:47 AM</td>\n",
       "      <td>Internet</td>\n",
       "      <td>Acworth</td>\n",
       "      <td>Georgia</td>\n",
       "      <td>30101</td>\n",
       "      <td>Closed</td>\n",
       "      <td>Yes</td>\n",
       "    </tr>\n",
       "    <tr>\n",
       "      <th>3</th>\n",
       "      <td>277946</td>\n",
       "      <td>Comcast Imposed a New Usage Cap of 300GB that ...</td>\n",
       "      <td>05-07-15</td>\n",
       "      <td>05-Jul-15</td>\n",
       "      <td>11:59:35 AM</td>\n",
       "      <td>Internet</td>\n",
       "      <td>Acworth</td>\n",
       "      <td>Georgia</td>\n",
       "      <td>30101</td>\n",
       "      <td>Open</td>\n",
       "      <td>Yes</td>\n",
       "    </tr>\n",
       "    <tr>\n",
       "      <th>4</th>\n",
       "      <td>307175</td>\n",
       "      <td>Comcast not working and no service to boot</td>\n",
       "      <td>26-05-15</td>\n",
       "      <td>26-May-15</td>\n",
       "      <td>1:25:26 PM</td>\n",
       "      <td>Internet</td>\n",
       "      <td>Acworth</td>\n",
       "      <td>Georgia</td>\n",
       "      <td>30101</td>\n",
       "      <td>Solved</td>\n",
       "      <td>No</td>\n",
       "    </tr>\n",
       "    <tr>\n",
       "      <th>5</th>\n",
       "      <td>338519</td>\n",
       "      <td>ISP Charging for arbitrary data limits with ov...</td>\n",
       "      <td>06-12-15</td>\n",
       "      <td>06-Dec-15</td>\n",
       "      <td>9:59:40 PM</td>\n",
       "      <td>Internet</td>\n",
       "      <td>Acworth</td>\n",
       "      <td>Georgia</td>\n",
       "      <td>30101</td>\n",
       "      <td>Solved</td>\n",
       "      <td>No</td>\n",
       "    </tr>\n",
       "    <tr>\n",
       "      <th>6</th>\n",
       "      <td>361148</td>\n",
       "      <td>Throttling service and unreasonable data caps</td>\n",
       "      <td>24-06-15</td>\n",
       "      <td>24-Jun-15</td>\n",
       "      <td>10:13:55 AM</td>\n",
       "      <td>Customer Care Call</td>\n",
       "      <td>Acworth</td>\n",
       "      <td>Georgia</td>\n",
       "      <td>30101</td>\n",
       "      <td>Pending</td>\n",
       "      <td>No</td>\n",
       "    </tr>\n",
       "    <tr>\n",
       "      <th>7</th>\n",
       "      <td>359792</td>\n",
       "      <td>Comcast refuses to help troubleshoot and corre...</td>\n",
       "      <td>23-06-15</td>\n",
       "      <td>23-Jun-15</td>\n",
       "      <td>6:56:14 PM</td>\n",
       "      <td>Internet</td>\n",
       "      <td>Adrian</td>\n",
       "      <td>Michigan</td>\n",
       "      <td>49221</td>\n",
       "      <td>Solved</td>\n",
       "      <td>No</td>\n",
       "    </tr>\n",
       "    <tr>\n",
       "      <th>8</th>\n",
       "      <td>318072</td>\n",
       "      <td>Comcast extended outages</td>\n",
       "      <td>06-01-15</td>\n",
       "      <td>06-Jan-15</td>\n",
       "      <td>11:46:30 PM</td>\n",
       "      <td>Customer Care Call</td>\n",
       "      <td>Alameda</td>\n",
       "      <td>California</td>\n",
       "      <td>94502</td>\n",
       "      <td>Closed</td>\n",
       "      <td>No</td>\n",
       "    </tr>\n",
       "    <tr>\n",
       "      <th>9</th>\n",
       "      <td>371214</td>\n",
       "      <td>Comcast Raising Prices and Not Being Available...</td>\n",
       "      <td>28-06-15</td>\n",
       "      <td>28-Jun-15</td>\n",
       "      <td>6:46:31 PM</td>\n",
       "      <td>Customer Care Call</td>\n",
       "      <td>Alameda</td>\n",
       "      <td>California</td>\n",
       "      <td>94501</td>\n",
       "      <td>Open</td>\n",
       "      <td>Yes</td>\n",
       "    </tr>\n",
       "  </tbody>\n",
       "</table>\n",
       "</div>"
      ],
      "text/plain": [
       "  Ticket #                                 Customer Complaint      Date  \\\n",
       "0   250635                      Comcast Cable Internet Speeds  22-04-15   \n",
       "1   223441       Payment disappear - service got disconnected  04-08-15   \n",
       "2   242732                                  Speed and Service  18-04-15   \n",
       "3   277946  Comcast Imposed a New Usage Cap of 300GB that ...  05-07-15   \n",
       "4   307175         Comcast not working and no service to boot  26-05-15   \n",
       "5   338519  ISP Charging for arbitrary data limits with ov...  06-12-15   \n",
       "6   361148      Throttling service and unreasonable data caps  24-06-15   \n",
       "7   359792  Comcast refuses to help troubleshoot and corre...  23-06-15   \n",
       "8   318072                           Comcast extended outages  06-01-15   \n",
       "9   371214  Comcast Raising Prices and Not Being Available...  28-06-15   \n",
       "\n",
       "  Date_month_year         Time        Received Via      City       State  \\\n",
       "0       22-Apr-15   3:53:50 PM  Customer Care Call  Abingdon    Maryland   \n",
       "1       04-Aug-15  10:22:56 AM            Internet   Acworth     Georgia   \n",
       "2       18-Apr-15   9:55:47 AM            Internet   Acworth     Georgia   \n",
       "3       05-Jul-15  11:59:35 AM            Internet   Acworth     Georgia   \n",
       "4       26-May-15   1:25:26 PM            Internet   Acworth     Georgia   \n",
       "5       06-Dec-15   9:59:40 PM            Internet   Acworth     Georgia   \n",
       "6       24-Jun-15  10:13:55 AM  Customer Care Call   Acworth     Georgia   \n",
       "7       23-Jun-15   6:56:14 PM            Internet    Adrian    Michigan   \n",
       "8       06-Jan-15  11:46:30 PM  Customer Care Call   Alameda  California   \n",
       "9       28-Jun-15   6:46:31 PM  Customer Care Call   Alameda  California   \n",
       "\n",
       "   Zip code   Status Filing on Behalf of Someone  \n",
       "0     21009   Closed                          No  \n",
       "1     30102   Closed                          No  \n",
       "2     30101   Closed                         Yes  \n",
       "3     30101     Open                         Yes  \n",
       "4     30101   Solved                          No  \n",
       "5     30101   Solved                          No  \n",
       "6     30101  Pending                          No  \n",
       "7     49221   Solved                          No  \n",
       "8     94502   Closed                          No  \n",
       "9     94501     Open                         Yes  "
      ]
     },
     "execution_count": 3,
     "metadata": {},
     "output_type": "execute_result"
    }
   ],
   "source": [
    "# Top 10 data visualization\n",
    "df_comcast_telecom.head(10)"
   ]
  },
  {
   "cell_type": "code",
   "execution_count": 4,
   "id": "hollywood-camel",
   "metadata": {
    "execution": {
     "iopub.execute_input": "2021-08-05T08:04:49.173741Z",
     "iopub.status.busy": "2021-08-05T08:04:49.153519Z",
     "iopub.status.idle": "2021-08-05T08:04:49.177970Z",
     "shell.execute_reply": "2021-08-05T08:04:49.177458Z",
     "shell.execute_reply.started": "2021-07-02T11:35:06.904692Z"
    },
    "papermill": {
     "duration": 0.049372,
     "end_time": "2021-08-05T08:04:49.178110",
     "exception": false,
     "start_time": "2021-08-05T08:04:49.128738",
     "status": "completed"
    },
    "scrolled": true,
    "tags": []
   },
   "outputs": [
    {
     "name": "stdout",
     "output_type": "stream",
     "text": [
      "<class 'pandas.core.frame.DataFrame'>\n",
      "RangeIndex: 2224 entries, 0 to 2223\n",
      "Data columns (total 11 columns):\n",
      " #   Column                       Non-Null Count  Dtype \n",
      "---  ------                       --------------  ----- \n",
      " 0   Ticket #                     2224 non-null   object\n",
      " 1   Customer Complaint           2224 non-null   object\n",
      " 2   Date                         2224 non-null   object\n",
      " 3   Date_month_year              2224 non-null   object\n",
      " 4   Time                         2224 non-null   object\n",
      " 5   Received Via                 2224 non-null   object\n",
      " 6   City                         2224 non-null   object\n",
      " 7   State                        2224 non-null   object\n",
      " 8   Zip code                     2224 non-null   int64 \n",
      " 9   Status                       2224 non-null   object\n",
      " 10  Filing on Behalf of Someone  2224 non-null   object\n",
      "dtypes: int64(1), object(10)\n",
      "memory usage: 191.2+ KB\n"
     ]
    }
   ],
   "source": [
    "# Get dataframe information\n",
    "df_comcast_telecom.info()"
   ]
  },
  {
   "cell_type": "code",
   "execution_count": 5,
   "id": "packed-bradley",
   "metadata": {
    "execution": {
     "iopub.execute_input": "2021-08-05T08:04:49.231221Z",
     "iopub.status.busy": "2021-08-05T08:04:49.230571Z",
     "iopub.status.idle": "2021-08-05T08:04:49.255852Z",
     "shell.execute_reply": "2021-08-05T08:04:49.256365Z",
     "shell.execute_reply.started": "2021-07-02T11:35:06.929359Z"
    },
    "papermill": {
     "duration": 0.055599,
     "end_time": "2021-08-05T08:04:49.256533",
     "exception": false,
     "start_time": "2021-08-05T08:04:49.200934",
     "status": "completed"
    },
    "tags": []
   },
   "outputs": [
    {
     "data": {
      "text/plain": [
       "Ticket #                       0\n",
       "Customer Complaint             0\n",
       "Date                           0\n",
       "Date_month_year                0\n",
       "Time                           0\n",
       "Received Via                   0\n",
       "City                           0\n",
       "State                          0\n",
       "Zip code                       0\n",
       "Status                         0\n",
       "Filing on Behalf of Someone    0\n",
       "dtype: int64"
      ]
     },
     "execution_count": 5,
     "metadata": {},
     "output_type": "execute_result"
    }
   ],
   "source": [
    "# Checking for Null Count\n",
    "df_comcast_telecom[df_comcast_telecom.isnull()].count()"
   ]
  },
  {
   "cell_type": "code",
   "execution_count": 6,
   "id": "planned-position",
   "metadata": {
    "execution": {
     "iopub.execute_input": "2021-08-05T08:04:49.321194Z",
     "iopub.status.busy": "2021-08-05T08:04:49.319395Z",
     "iopub.status.idle": "2021-08-05T08:04:49.331704Z",
     "shell.execute_reply": "2021-08-05T08:04:49.331088Z",
     "shell.execute_reply.started": "2021-07-02T11:35:06.957869Z"
    },
    "papermill": {
     "duration": 0.052463,
     "end_time": "2021-08-05T08:04:49.331883",
     "exception": false,
     "start_time": "2021-08-05T08:04:49.279420",
     "status": "completed"
    },
    "tags": []
   },
   "outputs": [
    {
     "data": {
      "text/plain": [
       "Ticket #                               object\n",
       "Customer Complaint                     object\n",
       "Date                           datetime64[ns]\n",
       "Date_month_year                datetime64[ns]\n",
       "Time                                   object\n",
       "Received Via                           object\n",
       "City                                   object\n",
       "State                                  object\n",
       "Zip code                                int64\n",
       "Status                                 object\n",
       "Filing on Behalf of Someone            object\n",
       "dtype: object"
      ]
     },
     "execution_count": 6,
     "metadata": {},
     "output_type": "execute_result"
    }
   ],
   "source": [
    "# Converting Date and Date_month_year column from object to datetime64 dtype \n",
    "df_comcast_telecom['Date_month_year'] = pd.to_datetime(df_comcast_telecom['Date_month_year'])\n",
    "df_comcast_telecom['Date'] = pd.to_datetime(df_comcast_telecom['Date'],format='%d-%m-%y')\n",
    "df_comcast_telecom.dtypes"
   ]
  },
  {
   "cell_type": "markdown",
   "id": "anticipated-hartford",
   "metadata": {
    "papermill": {
     "duration": 0.02375,
     "end_time": "2021-08-05T08:04:49.379262",
     "exception": false,
     "start_time": "2021-08-05T08:04:49.355512",
     "status": "completed"
    },
    "tags": []
   },
   "source": [
    "<b>Provide the trend chart for the number of complaints at monthly and daily granularity levels<b>"
   ]
  },
  {
   "cell_type": "code",
   "execution_count": 7,
   "id": "legal-counter",
   "metadata": {
    "execution": {
     "iopub.execute_input": "2021-08-05T08:04:49.432305Z",
     "iopub.status.busy": "2021-08-05T08:04:49.431582Z",
     "iopub.status.idle": "2021-08-05T08:04:49.448692Z",
     "shell.execute_reply": "2021-08-05T08:04:49.449227Z",
     "shell.execute_reply.started": "2021-07-02T11:35:06.980895Z"
    },
    "papermill": {
     "duration": 0.046231,
     "end_time": "2021-08-05T08:04:49.449398",
     "exception": false,
     "start_time": "2021-08-05T08:04:49.403167",
     "status": "completed"
    },
    "tags": []
   },
   "outputs": [
    {
     "data": {
      "text/html": [
       "<div>\n",
       "<style scoped>\n",
       "    .dataframe tbody tr th:only-of-type {\n",
       "        vertical-align: middle;\n",
       "    }\n",
       "\n",
       "    .dataframe tbody tr th {\n",
       "        vertical-align: top;\n",
       "    }\n",
       "\n",
       "    .dataframe thead th {\n",
       "        text-align: right;\n",
       "    }\n",
       "</style>\n",
       "<table border=\"1\" class=\"dataframe\">\n",
       "  <thead>\n",
       "    <tr style=\"text-align: right;\">\n",
       "      <th></th>\n",
       "      <th>Ticket #</th>\n",
       "      <th>Customer Complaint</th>\n",
       "      <th>Date</th>\n",
       "      <th>Date_month_year</th>\n",
       "      <th>Time</th>\n",
       "      <th>Received Via</th>\n",
       "      <th>City</th>\n",
       "      <th>State</th>\n",
       "      <th>Zip code</th>\n",
       "      <th>Status</th>\n",
       "      <th>Filing on Behalf of Someone</th>\n",
       "      <th>Month</th>\n",
       "    </tr>\n",
       "  </thead>\n",
       "  <tbody>\n",
       "    <tr>\n",
       "      <th>0</th>\n",
       "      <td>250635</td>\n",
       "      <td>Comcast Cable Internet Speeds</td>\n",
       "      <td>2015-04-22</td>\n",
       "      <td>2015-04-22</td>\n",
       "      <td>3:53:50 PM</td>\n",
       "      <td>Customer Care Call</td>\n",
       "      <td>Abingdon</td>\n",
       "      <td>Maryland</td>\n",
       "      <td>21009</td>\n",
       "      <td>Closed</td>\n",
       "      <td>No</td>\n",
       "      <td>4</td>\n",
       "    </tr>\n",
       "    <tr>\n",
       "      <th>1</th>\n",
       "      <td>223441</td>\n",
       "      <td>Payment disappear - service got disconnected</td>\n",
       "      <td>2015-08-04</td>\n",
       "      <td>2015-08-04</td>\n",
       "      <td>10:22:56 AM</td>\n",
       "      <td>Internet</td>\n",
       "      <td>Acworth</td>\n",
       "      <td>Georgia</td>\n",
       "      <td>30102</td>\n",
       "      <td>Closed</td>\n",
       "      <td>No</td>\n",
       "      <td>8</td>\n",
       "    </tr>\n",
       "    <tr>\n",
       "      <th>2</th>\n",
       "      <td>242732</td>\n",
       "      <td>Speed and Service</td>\n",
       "      <td>2015-04-18</td>\n",
       "      <td>2015-04-18</td>\n",
       "      <td>9:55:47 AM</td>\n",
       "      <td>Internet</td>\n",
       "      <td>Acworth</td>\n",
       "      <td>Georgia</td>\n",
       "      <td>30101</td>\n",
       "      <td>Closed</td>\n",
       "      <td>Yes</td>\n",
       "      <td>4</td>\n",
       "    </tr>\n",
       "    <tr>\n",
       "      <th>3</th>\n",
       "      <td>277946</td>\n",
       "      <td>Comcast Imposed a New Usage Cap of 300GB that ...</td>\n",
       "      <td>2015-07-05</td>\n",
       "      <td>2015-07-05</td>\n",
       "      <td>11:59:35 AM</td>\n",
       "      <td>Internet</td>\n",
       "      <td>Acworth</td>\n",
       "      <td>Georgia</td>\n",
       "      <td>30101</td>\n",
       "      <td>Open</td>\n",
       "      <td>Yes</td>\n",
       "      <td>7</td>\n",
       "    </tr>\n",
       "    <tr>\n",
       "      <th>4</th>\n",
       "      <td>307175</td>\n",
       "      <td>Comcast not working and no service to boot</td>\n",
       "      <td>2015-05-26</td>\n",
       "      <td>2015-05-26</td>\n",
       "      <td>1:25:26 PM</td>\n",
       "      <td>Internet</td>\n",
       "      <td>Acworth</td>\n",
       "      <td>Georgia</td>\n",
       "      <td>30101</td>\n",
       "      <td>Solved</td>\n",
       "      <td>No</td>\n",
       "      <td>5</td>\n",
       "    </tr>\n",
       "  </tbody>\n",
       "</table>\n",
       "</div>"
      ],
      "text/plain": [
       "  Ticket #                                 Customer Complaint       Date  \\\n",
       "0   250635                      Comcast Cable Internet Speeds 2015-04-22   \n",
       "1   223441       Payment disappear - service got disconnected 2015-08-04   \n",
       "2   242732                                  Speed and Service 2015-04-18   \n",
       "3   277946  Comcast Imposed a New Usage Cap of 300GB that ... 2015-07-05   \n",
       "4   307175         Comcast not working and no service to boot 2015-05-26   \n",
       "\n",
       "  Date_month_year         Time        Received Via      City     State  \\\n",
       "0      2015-04-22   3:53:50 PM  Customer Care Call  Abingdon  Maryland   \n",
       "1      2015-08-04  10:22:56 AM            Internet   Acworth   Georgia   \n",
       "2      2015-04-18   9:55:47 AM            Internet   Acworth   Georgia   \n",
       "3      2015-07-05  11:59:35 AM            Internet   Acworth   Georgia   \n",
       "4      2015-05-26   1:25:26 PM            Internet   Acworth   Georgia   \n",
       "\n",
       "   Zip code  Status Filing on Behalf of Someone  Month  \n",
       "0     21009  Closed                          No      4  \n",
       "1     30102  Closed                          No      8  \n",
       "2     30101  Closed                         Yes      4  \n",
       "3     30101    Open                         Yes      7  \n",
       "4     30101  Solved                          No      5  "
      ]
     },
     "execution_count": 7,
     "metadata": {},
     "output_type": "execute_result"
    }
   ],
   "source": [
    "# Creating new column Month from Date_month_year\n",
    "df_comcast_telecom['Month'] = df_comcast_telecom['Date_month_year'].dt.month\n",
    "df_comcast_telecom.head()"
   ]
  },
  {
   "cell_type": "code",
   "execution_count": 8,
   "id": "stunning-thermal",
   "metadata": {
    "execution": {
     "iopub.execute_input": "2021-08-05T08:04:49.500740Z",
     "iopub.status.busy": "2021-08-05T08:04:49.499826Z",
     "iopub.status.idle": "2021-08-05T08:04:49.735008Z",
     "shell.execute_reply": "2021-08-05T08:04:49.735508Z",
     "shell.execute_reply.started": "2021-07-02T11:35:07.00482Z"
    },
    "papermill": {
     "duration": 0.262512,
     "end_time": "2021-08-05T08:04:49.735674",
     "exception": false,
     "start_time": "2021-08-05T08:04:49.473162",
     "status": "completed"
    },
    "tags": []
   },
   "outputs": [
    {
     "data": {
      "image/png": "[encoded data removed]",
      "text/plain": [
       "<Figure size 1080x504 with 1 Axes>"
      ]
     },
     "metadata": {
      "needs_background": "light"
     },
     "output_type": "display_data"
    }
   ],
   "source": [
    "# Monthly Complaints Trend chart using matplotlib\n",
    "plt.figure(figsize=(15,7))\n",
    "plt.plot(sorted(df_comcast_telecom[\"Month\"].unique()), df_comcast_telecom.groupby([\"Month\"]).size(), color='#5900b3',linestyle='-' , linewidth = 3, label ='Tickets per Month') # in the order x, y\n",
    "plt.xticks(sorted(df_comcast_telecom[\"Month\"].unique()),['Jan', 'Feb', 'Mar','Apr','May','Jun','Jul','Aug','Sep','Oct','Nov','Dec'])\n",
    "plt.yticks()\n",
    "plt.xlabel('Months')\n",
    "plt.ylabel('Number of Tickets Created from Jan to Dec')\n",
    "plt.title('Monthly Complaints Trend')\n",
    "plt.legend()\n",
    "plt.show()\n"
   ]
  },
  {
   "cell_type": "code",
   "execution_count": 9,
   "id": "extreme-bottom",
   "metadata": {
    "execution": {
     "iopub.execute_input": "2021-08-05T08:04:49.797222Z",
     "iopub.status.busy": "2021-08-05T08:04:49.796565Z",
     "iopub.status.idle": "2021-08-05T08:04:50.002891Z",
     "shell.execute_reply": "2021-08-05T08:04:50.003387Z",
     "shell.execute_reply.started": "2021-07-02T11:35:07.241445Z"
    },
    "papermill": {
     "duration": 0.242376,
     "end_time": "2021-08-05T08:04:50.003557",
     "exception": false,
     "start_time": "2021-08-05T08:04:49.761181",
     "status": "completed"
    },
    "tags": []
   },
   "outputs": [
    {
     "data": {
      "image/png": "[encoded data removed]",
      "text/plain": [
       "<Figure size 1080x504 with 1 Axes>"
      ]
     },
     "metadata": {
      "needs_background": "light"
     },
     "output_type": "display_data"
    }
   ],
   "source": [
    "# Daily Complaints Trend chart using matplotlib\n",
    "\n",
    "plt.figure(figsize=(15,7))\n",
    "plt.plot(sorted(df_comcast_telecom[\"Date_month_year\"].unique()), df_comcast_telecom.groupby([\"Date_month_year\"]).size(), color='#5900b3',linestyle='-' , linewidth = 3, label ='Tickets per Day') # in the order x, y\n",
    "plt.xticks()\n",
    "plt.xlabel('Dates')\n",
    "plt.ylabel('Number of Tickets Created')\n",
    "plt.title('Daily Complaints Trend')\n",
    "plt.legend()\n",
    "plt.show()"
   ]
  },
  {
   "cell_type": "markdown",
   "id": "systematic-interest",
   "metadata": {
    "papermill": {
     "duration": 0.026525,
     "end_time": "2021-08-05T08:04:50.056964",
     "exception": false,
     "start_time": "2021-08-05T08:04:50.030439",
     "status": "completed"
    },
    "tags": []
   },
   "source": [
    "<b>Provide a table with the frequency of complaint types</b>"
   ]
  },
  {
   "cell_type": "code",
   "execution_count": 10,
   "id": "statewide-internet",
   "metadata": {
    "execution": {
     "iopub.execute_input": "2021-08-05T08:04:50.149531Z",
     "iopub.status.busy": "2021-08-05T08:04:50.139987Z",
     "iopub.status.idle": "2021-08-05T08:04:50.201921Z",
     "shell.execute_reply": "2021-08-05T08:04:50.201297Z",
     "shell.execute_reply.started": "2021-07-02T11:35:07.481548Z"
    },
    "papermill": {
     "duration": 0.118495,
     "end_time": "2021-08-05T08:04:50.202055",
     "exception": false,
     "start_time": "2021-08-05T08:04:50.083560",
     "status": "completed"
    },
    "tags": []
   },
   "outputs": [],
   "source": [
    "# Create a new column to list the types of Customer Complaints\n",
    "df_comcast_telecom[\"Complaint Catagory\"] = np.where(df_comcast_telecom[\"Customer Complaint\"].str.contains('Internet|Speed|wifi|Access|Throttling|throt|Broadband|Cable|connection|DSL|modem|ip|ISP',case=False,regex=True), 'Internet',\n",
    "         np.where(df_comcast_telecom[\"Customer Complaint\"].str.contains('\\$|Price|Pricing|Cost|Payment|Charg|pay|Bill|Billing|Rate|Contract|fee',case=False,regex=True), 'Billing',\n",
    "         np.where(df_comcast_telecom[\"Customer Complaint\"].str.contains('Service|Cap|usage|Data|Customer|switch|wait|support|TV|avail|network|cramming',case=False,regex=True), 'Network',\n",
    "         np.where(df_comcast_telecom[\"Customer Complaint\"].str.contains('Customer|complaint|breach|bully|False|fed up',case=False,regex=True), 'Grievance',\n",
    "         np.where(df_comcast_telecom[\"Customer Complaint\"].str.contains('email',case=False,regex=True), 'Email',\n",
    "         np.where(df_comcast_telecom[\"Customer Complaint\"].str.contains('outage',case=False,regex=True), 'Outages',\n",
    "         'Other'))))))"
   ]
  },
  {
   "cell_type": "code",
   "execution_count": 11,
   "id": "incredible-pixel",
   "metadata": {
    "execution": {
     "iopub.execute_input": "2021-08-05T08:04:50.261527Z",
     "iopub.status.busy": "2021-08-05T08:04:50.260907Z",
     "iopub.status.idle": "2021-08-05T08:04:50.265937Z",
     "shell.execute_reply": "2021-08-05T08:04:50.266452Z",
     "shell.execute_reply.started": "2021-07-02T11:35:07.572686Z"
    },
    "papermill": {
     "duration": 0.037581,
     "end_time": "2021-08-05T08:04:50.266610",
     "exception": false,
     "start_time": "2021-08-05T08:04:50.229029",
     "status": "completed"
    },
    "tags": []
   },
   "outputs": [
    {
     "name": "stdout",
     "output_type": "stream",
     "text": [
      "╒══════════════════════╤════════════════════════╕\n",
      "│ Complaint Category   │   Number of Complaints │\n",
      "╞══════════════════════╪════════════════════════╡\n",
      "│ Billing              │                    553 │\n",
      "├──────────────────────┼────────────────────────┤\n",
      "│ Email                │                      8 │\n",
      "├──────────────────────┼────────────────────────┤\n",
      "│ Grievance            │                     42 │\n",
      "├──────────────────────┼────────────────────────┤\n",
      "│ Internet             │                    764 │\n",
      "├──────────────────────┼────────────────────────┤\n",
      "│ Network              │                    442 │\n",
      "├──────────────────────┼────────────────────────┤\n",
      "│ Other                │                    410 │\n",
      "├──────────────────────┼────────────────────────┤\n",
      "│ Outages              │                      5 │\n",
      "╘══════════════════════╧════════════════════════╛\n"
     ]
    }
   ],
   "source": [
    "# Display Catagorised Category in tabuler format\n",
    "print(tabulate(df_comcast_telecom.groupby([\"Complaint Catagory\"]).size().to_frame(), headers=['Complaint Category','Number of Complaints'], tablefmt=\"fancy_grid\"))"
   ]
  },
  {
   "cell_type": "code",
   "execution_count": 12,
   "id": "automated-scope",
   "metadata": {
    "execution": {
     "iopub.execute_input": "2021-08-05T08:04:50.325047Z",
     "iopub.status.busy": "2021-08-05T08:04:50.324418Z",
     "iopub.status.idle": "2021-08-05T08:04:50.599391Z",
     "shell.execute_reply": "2021-08-05T08:04:50.598750Z",
     "shell.execute_reply.started": "2021-07-02T11:35:07.582451Z"
    },
    "papermill": {
     "duration": 0.304927,
     "end_time": "2021-08-05T08:04:50.599522",
     "exception": false,
     "start_time": "2021-08-05T08:04:50.294595",
     "status": "completed"
    },
    "tags": []
   },
   "outputs": [
    {
     "data": {
      "image/png": "[encoded data removed]",
      "text/plain": [
       "<Figure size 1440x720 with 1 Axes>"
      ]
     },
     "metadata": {
      "needs_background": "light"
     },
     "output_type": "display_data"
    }
   ],
   "source": [
    "#Percentage of Issues By Category\n",
    "ax = df_comcast_telecom['Complaint Catagory'].value_counts().plot(kind='bar', figsize=(20,10), color=\"#69E1DA\", fontsize=11,width=0.2);\n",
    "ax.set_alpha(0.8)\n",
    "ax.set_title(\"Frequency of Complaint Types\", fontsize=12)\n",
    "ax.set_xlabel(\"Category of Complaints\", fontsize=12);\n",
    "ax.set_ylabel(\"Number of Complients\", fontsize=12);\n",
    "ax.tick_params(axis='x', labelrotation=360)\n",
    "totals = []\n",
    "for i in ax.patches:\n",
    "    totals.append(i.get_height())\n",
    "total = sum(totals)\n",
    "for i in ax.patches:\n",
    "    width, height = i.get_width(), i.get_height()\n",
    "    x, y = i.get_xy() \n",
    "    ax.text(i.get_x(), i.get_height()+2, str(round((i.get_height()/total)*100, 2))+'%', fontsize=11,color =\"red\")\n",
    "    ax.text(x+width/2, y+height/2,'{:.0f}'.format(height), horizontalalignment='center', verticalalignment='center')"
   ]
  },
  {
   "cell_type": "markdown",
   "id": "fundamental-hydrogen",
   "metadata": {
    "papermill": {
     "duration": 0.028368,
     "end_time": "2021-08-05T08:04:50.656658",
     "exception": false,
     "start_time": "2021-08-05T08:04:50.628290",
     "status": "completed"
    },
    "tags": []
   },
   "source": [
    "<b>Create a new categorical variable with value as Open and Closed. Open & Pending is to be categorized as Open and Closed & Solved is to be categorized as Closed.</b>"
   ]
  },
  {
   "cell_type": "code",
   "execution_count": 13,
   "id": "legal-corruption",
   "metadata": {
    "execution": {
     "iopub.execute_input": "2021-08-05T08:04:50.719674Z",
     "iopub.status.busy": "2021-08-05T08:04:50.718510Z",
     "iopub.status.idle": "2021-08-05T08:04:50.723608Z",
     "shell.execute_reply": "2021-08-05T08:04:50.723082Z",
     "shell.execute_reply.started": "2021-07-02T11:35:07.872753Z"
    },
    "papermill": {
     "duration": 0.037865,
     "end_time": "2021-08-05T08:04:50.723743",
     "exception": false,
     "start_time": "2021-08-05T08:04:50.685878",
     "status": "completed"
    },
    "tags": []
   },
   "outputs": [
    {
     "data": {
      "text/plain": [
       "array(['Closed', 'Open', 'Solved', 'Pending'], dtype=object)"
      ]
     },
     "execution_count": 13,
     "metadata": {},
     "output_type": "execute_result"
    }
   ],
   "source": [
    "#Find the unique elementents in Status column\n",
    "df_comcast_telecom['Status'].unique()"
   ]
  },
  {
   "cell_type": "code",
   "execution_count": 14,
   "id": "medium-maria",
   "metadata": {
    "execution": {
     "iopub.execute_input": "2021-08-05T08:04:50.784339Z",
     "iopub.status.busy": "2021-08-05T08:04:50.783680Z",
     "iopub.status.idle": "2021-08-05T08:04:50.804232Z",
     "shell.execute_reply": "2021-08-05T08:04:50.804703Z",
     "shell.execute_reply.started": "2021-07-02T11:35:07.880505Z"
    },
    "papermill": {
     "duration": 0.05233,
     "end_time": "2021-08-05T08:04:50.804893",
     "exception": false,
     "start_time": "2021-08-05T08:04:50.752563",
     "status": "completed"
    },
    "scrolled": true,
    "tags": []
   },
   "outputs": [
    {
     "data": {
      "text/html": [
       "<div>\n",
       "<style scoped>\n",
       "    .dataframe tbody tr th:only-of-type {\n",
       "        vertical-align: middle;\n",
       "    }\n",
       "\n",
       "    .dataframe tbody tr th {\n",
       "        vertical-align: top;\n",
       "    }\n",
       "\n",
       "    .dataframe thead th {\n",
       "        text-align: right;\n",
       "    }\n",
       "</style>\n",
       "<table border=\"1\" class=\"dataframe\">\n",
       "  <thead>\n",
       "    <tr style=\"text-align: right;\">\n",
       "      <th></th>\n",
       "      <th>Ticket #</th>\n",
       "      <th>Customer Complaint</th>\n",
       "      <th>Date</th>\n",
       "      <th>Date_month_year</th>\n",
       "      <th>Time</th>\n",
       "      <th>Received Via</th>\n",
       "      <th>City</th>\n",
       "      <th>State</th>\n",
       "      <th>Zip code</th>\n",
       "      <th>Status</th>\n",
       "      <th>Filing on Behalf of Someone</th>\n",
       "      <th>Month</th>\n",
       "      <th>Complaint Catagory</th>\n",
       "      <th>Consolidated Status</th>\n",
       "    </tr>\n",
       "  </thead>\n",
       "  <tbody>\n",
       "    <tr>\n",
       "      <th>0</th>\n",
       "      <td>250635</td>\n",
       "      <td>Comcast Cable Internet Speeds</td>\n",
       "      <td>2015-04-22</td>\n",
       "      <td>2015-04-22</td>\n",
       "      <td>3:53:50 PM</td>\n",
       "      <td>Customer Care Call</td>\n",
       "      <td>Abingdon</td>\n",
       "      <td>Maryland</td>\n",
       "      <td>21009</td>\n",
       "      <td>Closed</td>\n",
       "      <td>No</td>\n",
       "      <td>4</td>\n",
       "      <td>Internet</td>\n",
       "      <td>Closed</td>\n",
       "    </tr>\n",
       "    <tr>\n",
       "      <th>1</th>\n",
       "      <td>223441</td>\n",
       "      <td>Payment disappear - service got disconnected</td>\n",
       "      <td>2015-08-04</td>\n",
       "      <td>2015-08-04</td>\n",
       "      <td>10:22:56 AM</td>\n",
       "      <td>Internet</td>\n",
       "      <td>Acworth</td>\n",
       "      <td>Georgia</td>\n",
       "      <td>30102</td>\n",
       "      <td>Closed</td>\n",
       "      <td>No</td>\n",
       "      <td>8</td>\n",
       "      <td>Billing</td>\n",
       "      <td>Closed</td>\n",
       "    </tr>\n",
       "    <tr>\n",
       "      <th>2</th>\n",
       "      <td>242732</td>\n",
       "      <td>Speed and Service</td>\n",
       "      <td>2015-04-18</td>\n",
       "      <td>2015-04-18</td>\n",
       "      <td>9:55:47 AM</td>\n",
       "      <td>Internet</td>\n",
       "      <td>Acworth</td>\n",
       "      <td>Georgia</td>\n",
       "      <td>30101</td>\n",
       "      <td>Closed</td>\n",
       "      <td>Yes</td>\n",
       "      <td>4</td>\n",
       "      <td>Internet</td>\n",
       "      <td>Closed</td>\n",
       "    </tr>\n",
       "    <tr>\n",
       "      <th>3</th>\n",
       "      <td>277946</td>\n",
       "      <td>Comcast Imposed a New Usage Cap of 300GB that ...</td>\n",
       "      <td>2015-07-05</td>\n",
       "      <td>2015-07-05</td>\n",
       "      <td>11:59:35 AM</td>\n",
       "      <td>Internet</td>\n",
       "      <td>Acworth</td>\n",
       "      <td>Georgia</td>\n",
       "      <td>30101</td>\n",
       "      <td>Open</td>\n",
       "      <td>Yes</td>\n",
       "      <td>7</td>\n",
       "      <td>Network</td>\n",
       "      <td>Open</td>\n",
       "    </tr>\n",
       "    <tr>\n",
       "      <th>4</th>\n",
       "      <td>307175</td>\n",
       "      <td>Comcast not working and no service to boot</td>\n",
       "      <td>2015-05-26</td>\n",
       "      <td>2015-05-26</td>\n",
       "      <td>1:25:26 PM</td>\n",
       "      <td>Internet</td>\n",
       "      <td>Acworth</td>\n",
       "      <td>Georgia</td>\n",
       "      <td>30101</td>\n",
       "      <td>Solved</td>\n",
       "      <td>No</td>\n",
       "      <td>5</td>\n",
       "      <td>Network</td>\n",
       "      <td>Closed</td>\n",
       "    </tr>\n",
       "  </tbody>\n",
       "</table>\n",
       "</div>"
      ],
      "text/plain": [
       "  Ticket #                                 Customer Complaint       Date  \\\n",
       "0   250635                      Comcast Cable Internet Speeds 2015-04-22   \n",
       "1   223441       Payment disappear - service got disconnected 2015-08-04   \n",
       "2   242732                                  Speed and Service 2015-04-18   \n",
       "3   277946  Comcast Imposed a New Usage Cap of 300GB that ... 2015-07-05   \n",
       "4   307175         Comcast not working and no service to boot 2015-05-26   \n",
       "\n",
       "  Date_month_year         Time        Received Via      City     State  \\\n",
       "0      2015-04-22   3:53:50 PM  Customer Care Call  Abingdon  Maryland   \n",
       "1      2015-08-04  10:22:56 AM            Internet   Acworth   Georgia   \n",
       "2      2015-04-18   9:55:47 AM            Internet   Acworth   Georgia   \n",
       "3      2015-07-05  11:59:35 AM            Internet   Acworth   Georgia   \n",
       "4      2015-05-26   1:25:26 PM            Internet   Acworth   Georgia   \n",
       "\n",
       "   Zip code  Status Filing on Behalf of Someone  Month Complaint Catagory  \\\n",
       "0     21009  Closed                          No      4           Internet   \n",
       "1     30102  Closed                          No      8            Billing   \n",
       "2     30101  Closed                         Yes      4           Internet   \n",
       "3     30101    Open                         Yes      7            Network   \n",
       "4     30101  Solved                          No      5            Network   \n",
       "\n",
       "  Consolidated Status  \n",
       "0              Closed  \n",
       "1              Closed  \n",
       "2              Closed  \n",
       "3                Open  \n",
       "4              Closed  "
      ]
     },
     "execution_count": 14,
     "metadata": {},
     "output_type": "execute_result"
    }
   ],
   "source": [
    "#Create new column and catagorize status\n",
    "df_comcast_telecom['Consolidated Status'] = ['Closed' if Status == 'Closed' or Status == 'Solved' else 'Open' for Status in df_comcast_telecom['Status']]\n",
    "df_comcast_telecom.head()"
   ]
  },
  {
   "cell_type": "markdown",
   "id": "valid-niagara",
   "metadata": {
    "papermill": {
     "duration": 0.029389,
     "end_time": "2021-08-05T08:04:50.863496",
     "exception": false,
     "start_time": "2021-08-05T08:04:50.834107",
     "status": "completed"
    },
    "tags": []
   },
   "source": [
    "<b>Provide state wise status of complaints in a stacked bar chart. Use the categorized variable from Q3. Provide insights on</b>"
   ]
  },
  {
   "cell_type": "code",
   "execution_count": 15,
   "id": "whole-limitation",
   "metadata": {
    "execution": {
     "iopub.execute_input": "2021-08-05T08:04:50.926128Z",
     "iopub.status.busy": "2021-08-05T08:04:50.925423Z",
     "iopub.status.idle": "2021-08-05T08:04:50.937012Z",
     "shell.execute_reply": "2021-08-05T08:04:50.936503Z",
     "shell.execute_reply.started": "2021-07-02T11:35:07.912Z"
    },
    "papermill": {
     "duration": 0.044312,
     "end_time": "2021-08-05T08:04:50.937148",
     "exception": false,
     "start_time": "2021-08-05T08:04:50.892836",
     "status": "completed"
    },
    "tags": []
   },
   "outputs": [],
   "source": [
    "# Create a df for state wise status\n",
    "State_wise_status = df_comcast_telecom.groupby(['State','Consolidated Status']).size().unstack(level=-1).fillna(0).astype(int)"
   ]
  },
  {
   "cell_type": "code",
   "execution_count": 16,
   "id": "plain-leadership",
   "metadata": {
    "execution": {
     "iopub.execute_input": "2021-08-05T08:04:51.028603Z",
     "iopub.status.busy": "2021-08-05T08:04:51.026815Z",
     "iopub.status.idle": "2021-08-05T08:04:52.019318Z",
     "shell.execute_reply": "2021-08-05T08:04:52.019815Z",
     "shell.execute_reply.started": "2021-07-02T11:35:07.931224Z"
    },
    "papermill": {
     "duration": 1.053388,
     "end_time": "2021-08-05T08:04:52.019980",
     "exception": false,
     "start_time": "2021-08-05T08:04:50.966592",
     "status": "completed"
    },
    "tags": []
   },
   "outputs": [
    {
     "data": {
      "image/png": "[encoded data removed]",
      "text/plain": [
       "<Figure size 2160x720 with 1 Axes>"
      ]
     },
     "metadata": {
      "needs_background": "light"
     },
     "output_type": "display_data"
    }
   ],
   "source": [
    "# State wise complaint status using Stacked bar chart with pandas\n",
    "sws = State_wise_status.plot(kind='bar', figsize = (30,10), color=['#00b386','#0086b3'],title  = 'State wise status of complaints', xlabel = 'States', ylabel = 'Number of complaints', stacked = True)\n",
    "sws.tick_params(axis='x', labelrotation=90)\n",
    "sws.set_alpha(0.8)\n",
    "for p in sws.patches:\n",
    "    width, height = p.get_width(), p.get_height()\n",
    "    x, y = p.get_xy() \n",
    "    sws.text(x+width/2, y+height/2, '{:.0f}'.format(height), color=\"white\", horizontalalignment='center', verticalalignment='center', fontweight='bold')"
   ]
  },
  {
   "cell_type": "markdown",
   "id": "reported-retention",
   "metadata": {
    "papermill": {
     "duration": 0.03178,
     "end_time": "2021-08-05T08:04:52.083609",
     "exception": false,
     "start_time": "2021-08-05T08:04:52.051829",
     "status": "completed"
    },
    "tags": []
   },
   "source": [
    "<b>Which state has the maximum complaints</b>"
   ]
  },
  {
   "cell_type": "code",
   "execution_count": 17,
   "id": "joined-development",
   "metadata": {
    "execution": {
     "iopub.execute_input": "2021-08-05T08:04:52.155268Z",
     "iopub.status.busy": "2021-08-05T08:04:52.154459Z",
     "iopub.status.idle": "2021-08-05T08:04:52.158750Z",
     "shell.execute_reply": "2021-08-05T08:04:52.158025Z",
     "shell.execute_reply.started": "2021-07-02T11:35:09.286639Z"
    },
    "papermill": {
     "duration": 0.04373,
     "end_time": "2021-08-05T08:04:52.158952",
     "exception": false,
     "start_time": "2021-08-05T08:04:52.115222",
     "status": "completed"
    },
    "tags": []
   },
   "outputs": [
    {
     "name": "stdout",
     "output_type": "stream",
     "text": [
      "State with maximum complains : Georgia\n",
      "Total open complaints in Georgia : 80\n",
      "Total closed complaints in Georgia : 208\n"
     ]
    }
   ],
   "source": [
    "# State has maximum complaints with ticket count\n",
    "State_wise_status['Total Complaints'] = State_wise_status['Closed']+State_wise_status['Open']\n",
    "print(\"State with maximum complains : {}\".format(State_wise_status['Total Complaints'].idxmax()))\n",
    "print(\"Total open complaints in {} : {}\".format(State_wise_status['Total Complaints'].idxmax(),State_wise_status['Open'].max()))\n",
    "print(\"Total closed complaints in {} : {}\".format(State_wise_status['Total Complaints'].idxmax(),State_wise_status['Closed'].max()))"
   ]
  },
  {
   "cell_type": "markdown",
   "id": "suffering-browse",
   "metadata": {
    "papermill": {
     "duration": 0.032163,
     "end_time": "2021-08-05T08:04:52.224389",
     "exception": false,
     "start_time": "2021-08-05T08:04:52.192226",
     "status": "completed"
    },
    "tags": []
   },
   "source": [
    "<b>Which state has the highest percentage of unresolved complaints</b>"
   ]
  },
  {
   "cell_type": "code",
   "execution_count": 18,
   "id": "cardiovascular-increase",
   "metadata": {
    "execution": {
     "iopub.execute_input": "2021-08-05T08:04:52.297366Z",
     "iopub.status.busy": "2021-08-05T08:04:52.296622Z",
     "iopub.status.idle": "2021-08-05T08:04:52.300041Z",
     "shell.execute_reply": "2021-08-05T08:04:52.300486Z",
     "shell.execute_reply.started": "2021-07-02T11:35:09.297396Z"
    },
    "papermill": {
     "duration": 0.043712,
     "end_time": "2021-08-05T08:04:52.300656",
     "exception": false,
     "start_time": "2021-08-05T08:04:52.256944",
     "status": "completed"
    },
    "tags": []
   },
   "outputs": [
    {
     "name": "stdout",
     "output_type": "stream",
     "text": [
      "State with highest % of un-resolved complains : Georgia\n",
      "Un-resolved complaints % in Georgia : 15.47%\n"
     ]
    }
   ],
   "source": [
    "# State with highest percentage of un-resolved complaints\n",
    "State_wise_status['Un-Resolved %'] =  round((State_wise_status['Open']/State_wise_status['Open'].sum()) *100,2)\n",
    "print(\"State with highest % of un-resolved complains : {}\".format(State_wise_status['Un-Resolved %'].idxmax()))\n",
    "print(\"Un-resolved complaints % in {} : {}%\".format(State_wise_status['Total Complaints'].idxmax(),State_wise_status['Un-Resolved %'].max()))"
   ]
  },
  {
   "cell_type": "markdown",
   "id": "fundamental-harrison",
   "metadata": {
    "papermill": {
     "duration": 0.032059,
     "end_time": "2021-08-05T08:04:52.365033",
     "exception": false,
     "start_time": "2021-08-05T08:04:52.332974",
     "status": "completed"
    },
    "tags": []
   },
   "source": [
    "<b>Provide the percentage of complaints resolved till date, which were received through the Internet and customer care calls</b>"
   ]
  },
  {
   "cell_type": "code",
   "execution_count": 19,
   "id": "disciplinary-valley",
   "metadata": {
    "execution": {
     "iopub.execute_input": "2021-08-05T08:04:52.436747Z",
     "iopub.status.busy": "2021-08-05T08:04:52.436119Z",
     "iopub.status.idle": "2021-08-05T08:04:52.444168Z",
     "shell.execute_reply": "2021-08-05T08:04:52.444612Z",
     "shell.execute_reply.started": "2021-07-02T11:35:09.325267Z"
    },
    "papermill": {
     "duration": 0.047481,
     "end_time": "2021-08-05T08:04:52.444793",
     "exception": false,
     "start_time": "2021-08-05T08:04:52.397312",
     "status": "completed"
    },
    "tags": []
   },
   "outputs": [
    {
     "name": "stdout",
     "output_type": "stream",
     "text": [
      "Resolved % of complaints, received through Internet :  49.38%\n",
      "Resolved % of complaints, received through Customer Care Call : 50.62%\n"
     ]
    }
   ],
   "source": [
    "# Complaints received through Internet and Customer Care call with resolved percentage\n",
    "Complaints_resolved = df_comcast_telecom.groupby(['Received Via','Consolidated Status']).size().unstack(level=-1)\n",
    "Complaints_resolved['Resolved %'] = round((Complaints_resolved['Closed']/Complaints_resolved['Closed'].sum())*100,2)\n",
    "print(\"Resolved % of complaints, received through Internet :  {}%\".format(Complaints_resolved.loc['Internet']['Resolved %']))\n",
    "print(\"Resolved % of complaints, received through Customer Care Call : {}%\".format(Complaints_resolved.loc['Customer Care Call']['Resolved %']))"
   ]
  },
  {
   "cell_type": "code",
   "execution_count": 20,
   "id": "earlier-graham",
   "metadata": {
    "execution": {
     "iopub.execute_input": "2021-08-05T08:04:52.533726Z",
     "iopub.status.busy": "2021-08-05T08:04:52.533022Z",
     "iopub.status.idle": "2021-08-05T08:04:52.648285Z",
     "shell.execute_reply": "2021-08-05T08:04:52.647749Z",
     "shell.execute_reply.started": "2021-07-02T11:35:09.345166Z"
    },
    "papermill": {
     "duration": 0.170774,
     "end_time": "2021-08-05T08:04:52.648422",
     "exception": false,
     "start_time": "2021-08-05T08:04:52.477648",
     "status": "completed"
    },
    "tags": []
   },
   "outputs": [
    {
     "data": {
      "image/png": "[encoded data removed]",
      "text/plain": [
       "<Figure size 1224x504 with 1 Axes>"
      ]
     },
     "metadata": {},
     "output_type": "display_data"
    }
   ],
   "source": [
    "# Pie Chart for the complaints received through Internet and Customer Care call with resolved percentage\n",
    "colors = ['#0086b3','#00b386'] \n",
    "labels = list(Complaints_resolved.index)\n",
    "fig, ax1 = plt.subplots(figsize=(17,7))\n",
    "fig.figsize=(20,10)\n",
    "ax1.pie(Complaints_resolved['Closed'], colors = colors, labels=labels, autopct='%1.1f%%',startangle=70)\n",
    "centre_circle = plt.Circle((0,0),0.50,fc='white')\n",
    "fig = plt.gcf()\n",
    "fig.gca().add_artist(centre_circle)  \n",
    "plt.legend(labels, bbox_to_anchor=(1.2,1),loc=\"upper right\")\n",
    "plt.title('Percentage of complaints resolved')\n",
    "plt.show()"
   ]
  },
  {
   "cell_type": "markdown",
   "id": "taken-gospel",
   "metadata": {
    "papermill": {
     "duration": 0.034344,
     "end_time": "2021-08-05T08:04:52.716480",
     "exception": false,
     "start_time": "2021-08-05T08:04:52.682136",
     "status": "completed"
    },
    "tags": []
   },
   "source": [
    "<b>End of the Project</b>"
   ]
  }
 ],
 "metadata": {
  "kernelspec": {
   "display_name": "Python 3",
   "language": "python",
   "name": "python3"
  },
  "language_info": {
   "codemirror_mode": {
    "name": "ipython",
    "version": 3
   },
   "file_extension": ".py",
   "mimetype": "text/x-python",
   "name": "python",
   "nbconvert_exporter": "python",
   "pygments_lexer": "ipython3",
   "version": "3.7.10"
  },
  "papermill": {
   "default_parameters": {},
   "duration": 12.651986,
   "end_time": "2021-08-05T08:04:53.461252",
   "environment_variables": {},
   "exception": null,
   "input_path": "__notebook__.ipynb",
   "output_path": "__notebook__.ipynb",
   "parameters": {},
   "start_time": "2021-08-05T08:04:40.809266",
   "version": "2.3.3"
  }
 },
 "nbformat": 4,
 "nbformat_minor": 5
}
